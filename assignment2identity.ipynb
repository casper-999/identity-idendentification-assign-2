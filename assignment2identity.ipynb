{
 "cells": [
  {
   "cell_type": "code",
   "execution_count": 1,
   "metadata": {},
   "outputs": [],
   "source": [
    "import re"
   ]
  },
  {
   "cell_type": "code",
   "execution_count": 9,
   "metadata": {},
   "outputs": [],
   "source": [
    "# pan number :regx\n",
    "def format_pan(string):\n",
    "    regex= \"[A-Z]{5}[0-9]{4}[A-Z]{1}\"\n",
    "    t= re.compile(regex)\n",
    "    if (re.search(t,string) and len(string) == 10):\n",
    "        return True\n",
    "    else:\n",
    "        return False"
   ]
  },
  {
   "cell_type": "code",
   "execution_count": 14,
   "metadata": {},
   "outputs": [],
   "source": [
    "# aadhar no. :regx\n",
    "def format_aadhar(string):\n",
    "    regex= \"[0-9]{12}\"\n",
    "    t= re.compile(regex)\n",
    "    if (re.search(t, string) and len(string) == 12):\n",
    "        return True\n",
    "    else:\n",
    "        return False"
   ]
  },
  {
   "cell_type": "code",
   "execution_count": 17,
   "metadata": {},
   "outputs": [],
   "source": [
    "#driver licence : simple python code\n",
    "def format_driver(string):\n",
    "    if (len(string)== 15 and string[0:2].isalpha() == True and string[2:16].isdigit() == True) :\n",
    "        return True\n",
    "    else:\n",
    "        return False"
   ]
  },
  {
   "cell_type": "code",
   "execution_count": 24,
   "metadata": {},
   "outputs": [],
   "source": [
    "# Gst no.\n",
    "def format_gst(string):\n",
    "    if (len(string)==15 and string[0:2].isdigit() == True and string[2:7].isalpha()==True and string[7:11].isdigit()== True and string[11].isalpha()==True and string[12].isdigit()== True and string[13].isalpha()==True and string[14].isdigit()==True):\n",
    "        return True\n",
    "    else:\n",
    "        return False\n",
    "    "
   ]
  },
  {
   "cell_type": "code",
   "execution_count": 25,
   "metadata": {},
   "outputs": [
    {
     "data": {
      "text/plain": [
       "True"
      ]
     },
     "execution_count": 25,
     "metadata": {},
     "output_type": "execute_result"
    }
   ],
   "source": [
    "format_gst(\"12ABCDE3456F7G8\")"
   ]
  },
  {
   "cell_type": "code",
   "execution_count": null,
   "metadata": {},
   "outputs": [],
   "source": []
  }
 ],
 "metadata": {
  "kernelspec": {
   "display_name": "Python 3",
   "language": "python",
   "name": "python3"
  },
  "language_info": {
   "codemirror_mode": {
    "name": "ipython",
    "version": 3
   },
   "file_extension": ".py",
   "mimetype": "text/x-python",
   "name": "python",
   "nbconvert_exporter": "python",
   "pygments_lexer": "ipython3",
   "version": "3.7.4"
  }
 },
 "nbformat": 4,
 "nbformat_minor": 2
}
